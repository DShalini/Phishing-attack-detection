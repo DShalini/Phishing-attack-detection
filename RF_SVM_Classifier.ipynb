{
 "cells": [
  {
   "cell_type": "markdown",
   "metadata": {
    "id": "V30aU36jx9ig"
   },
   "source": [
    "**Collection of Data**"
   ]
  },
  {
   "cell_type": "code",
   "execution_count": 1,
   "metadata": {
    "executionInfo": {
     "elapsed": 346,
     "status": "ok",
     "timestamp": 1626508688471,
     "user": {
      "displayName": "pantech elearning",
      "photoUrl": "",
      "userId": "02085171050783995221"
     },
     "user_tz": -330
    },
    "id": "vSRGa9-fx9il"
   },
   "outputs": [],
   "source": [
    "import pandas as pd\n",
    "import numpy as np\n",
    "import matplotlib.pyplot as plt\n",
    "import seaborn as sns\n",
    "import warnings\n",
    "warnings.filterwarnings(\"ignore\")"
   ]
  },
  {
   "cell_type": "markdown",
   "metadata": {},
   "source": [
    "## Dataset Uploading"
   ]
  },
  {
   "cell_type": "code",
   "execution_count": 2,
   "metadata": {
    "executionInfo": {
     "elapsed": 812,
     "status": "ok",
     "timestamp": 1626508689632,
     "user": {
      "displayName": "pantech elearning",
      "photoUrl": "",
      "userId": "02085171050783995221"
     },
     "user_tz": -330
    },
    "id": "LwaLk1bCx9im"
   },
   "outputs": [],
   "source": [
    "url_dataset = pd.read_csv(\"url_dataset.csv\")"
   ]
  },
  {
   "cell_type": "code",
   "execution_count": 3,
   "metadata": {
    "colab": {
     "base_uri": "https://localhost:8080/",
     "height": 375
    },
    "executionInfo": {
     "elapsed": 38,
     "status": "ok",
     "timestamp": 1626508689634,
     "user": {
      "displayName": "pantech elearning",
      "photoUrl": "",
      "userId": "02085171050783995221"
     },
     "user_tz": -330
    },
    "id": "ZBn5rzvBx9in",
    "outputId": "f9bee640-af3c-4dca-c8e9-cb10cd51a725"
   },
   "outputs": [
    {
     "data": {
      "text/html": [
       "<div>\n",
       "<style scoped>\n",
       "    .dataframe tbody tr th:only-of-type {\n",
       "        vertical-align: middle;\n",
       "    }\n",
       "\n",
       "    .dataframe tbody tr th {\n",
       "        vertical-align: top;\n",
       "    }\n",
       "\n",
       "    .dataframe thead th {\n",
       "        text-align: right;\n",
       "    }\n",
       "</style>\n",
       "<table border=\"1\" class=\"dataframe\">\n",
       "  <thead>\n",
       "    <tr style=\"text-align: right;\">\n",
       "      <th></th>\n",
       "      <th>protocol</th>\n",
       "      <th>domain_name</th>\n",
       "      <th>address</th>\n",
       "      <th>long_url</th>\n",
       "      <th>having_@_symbol</th>\n",
       "      <th>redirection_//_symbol</th>\n",
       "      <th>prefix_suffix_seperation</th>\n",
       "      <th>sub_domains</th>\n",
       "      <th>having_ip_address</th>\n",
       "      <th>shortening_service</th>\n",
       "      <th>https_token</th>\n",
       "      <th>abnormal_url</th>\n",
       "      <th>web_traffic</th>\n",
       "      <th>domain_registration_length</th>\n",
       "      <th>age_of_domain</th>\n",
       "      <th>dns_record</th>\n",
       "      <th>statistical_report</th>\n",
       "    </tr>\n",
       "  </thead>\n",
       "  <tbody>\n",
       "    <tr>\n",
       "      <th>0</th>\n",
       "      <td>http</td>\n",
       "      <td>www.liquidgeneration.com</td>\n",
       "      <td>NaN</td>\n",
       "      <td>0</td>\n",
       "      <td>0</td>\n",
       "      <td>0</td>\n",
       "      <td>0</td>\n",
       "      <td>0</td>\n",
       "      <td>0</td>\n",
       "      <td>0</td>\n",
       "      <td>1</td>\n",
       "      <td>1</td>\n",
       "      <td>2</td>\n",
       "      <td>1</td>\n",
       "      <td>1</td>\n",
       "      <td>1</td>\n",
       "      <td>0</td>\n",
       "    </tr>\n",
       "    <tr>\n",
       "      <th>1</th>\n",
       "      <td>http</td>\n",
       "      <td>www.onlineanime.org</td>\n",
       "      <td>NaN</td>\n",
       "      <td>0</td>\n",
       "      <td>0</td>\n",
       "      <td>0</td>\n",
       "      <td>0</td>\n",
       "      <td>0</td>\n",
       "      <td>0</td>\n",
       "      <td>0</td>\n",
       "      <td>1</td>\n",
       "      <td>1</td>\n",
       "      <td>1</td>\n",
       "      <td>1</td>\n",
       "      <td>1</td>\n",
       "      <td>1</td>\n",
       "      <td>1</td>\n",
       "    </tr>\n",
       "    <tr>\n",
       "      <th>2</th>\n",
       "      <td>http</td>\n",
       "      <td>www.ceres.dti.ne.jp</td>\n",
       "      <td>~nekoi/senno/senfirst.html</td>\n",
       "      <td>0</td>\n",
       "      <td>0</td>\n",
       "      <td>0</td>\n",
       "      <td>0</td>\n",
       "      <td>1</td>\n",
       "      <td>0</td>\n",
       "      <td>0</td>\n",
       "      <td>1</td>\n",
       "      <td>1</td>\n",
       "      <td>0</td>\n",
       "      <td>1</td>\n",
       "      <td>1</td>\n",
       "      <td>1</td>\n",
       "      <td>0</td>\n",
       "    </tr>\n",
       "    <tr>\n",
       "      <th>3</th>\n",
       "      <td>http</td>\n",
       "      <td>www.galeon.com</td>\n",
       "      <td>kmh/</td>\n",
       "      <td>0</td>\n",
       "      <td>0</td>\n",
       "      <td>0</td>\n",
       "      <td>0</td>\n",
       "      <td>0</td>\n",
       "      <td>0</td>\n",
       "      <td>0</td>\n",
       "      <td>1</td>\n",
       "      <td>1</td>\n",
       "      <td>0</td>\n",
       "      <td>1</td>\n",
       "      <td>1</td>\n",
       "      <td>1</td>\n",
       "      <td>0</td>\n",
       "    </tr>\n",
       "    <tr>\n",
       "      <th>4</th>\n",
       "      <td>http</td>\n",
       "      <td>www.fanworkrecs.com</td>\n",
       "      <td>NaN</td>\n",
       "      <td>0</td>\n",
       "      <td>0</td>\n",
       "      <td>0</td>\n",
       "      <td>0</td>\n",
       "      <td>0</td>\n",
       "      <td>0</td>\n",
       "      <td>0</td>\n",
       "      <td>1</td>\n",
       "      <td>1</td>\n",
       "      <td>1</td>\n",
       "      <td>1</td>\n",
       "      <td>1</td>\n",
       "      <td>1</td>\n",
       "      <td>0</td>\n",
       "    </tr>\n",
       "    <tr>\n",
       "      <th>5</th>\n",
       "      <td>http</td>\n",
       "      <td>www.animehouse.com</td>\n",
       "      <td>NaN</td>\n",
       "      <td>0</td>\n",
       "      <td>0</td>\n",
       "      <td>0</td>\n",
       "      <td>0</td>\n",
       "      <td>0</td>\n",
       "      <td>0</td>\n",
       "      <td>0</td>\n",
       "      <td>1</td>\n",
       "      <td>1</td>\n",
       "      <td>1</td>\n",
       "      <td>1</td>\n",
       "      <td>1</td>\n",
       "      <td>1</td>\n",
       "      <td>1</td>\n",
       "    </tr>\n",
       "    <tr>\n",
       "      <th>6</th>\n",
       "      <td>http</td>\n",
       "      <td>www2.117.ne.jp</td>\n",
       "      <td>~mb1996ax/enadc.html</td>\n",
       "      <td>0</td>\n",
       "      <td>0</td>\n",
       "      <td>0</td>\n",
       "      <td>0</td>\n",
       "      <td>2</td>\n",
       "      <td>0</td>\n",
       "      <td>0</td>\n",
       "      <td>1</td>\n",
       "      <td>1</td>\n",
       "      <td>2</td>\n",
       "      <td>1</td>\n",
       "      <td>1</td>\n",
       "      <td>1</td>\n",
       "      <td>0</td>\n",
       "    </tr>\n",
       "    <tr>\n",
       "      <th>7</th>\n",
       "      <td>http</td>\n",
       "      <td>archive.rhps.org</td>\n",
       "      <td>fritters/yui/index.html</td>\n",
       "      <td>0</td>\n",
       "      <td>0</td>\n",
       "      <td>0</td>\n",
       "      <td>0</td>\n",
       "      <td>0</td>\n",
       "      <td>0</td>\n",
       "      <td>0</td>\n",
       "      <td>1</td>\n",
       "      <td>1</td>\n",
       "      <td>2</td>\n",
       "      <td>1</td>\n",
       "      <td>1</td>\n",
       "      <td>1</td>\n",
       "      <td>0</td>\n",
       "    </tr>\n",
       "    <tr>\n",
       "      <th>8</th>\n",
       "      <td>http</td>\n",
       "      <td>www.freecartoonsex.com</td>\n",
       "      <td>NaN</td>\n",
       "      <td>0</td>\n",
       "      <td>0</td>\n",
       "      <td>0</td>\n",
       "      <td>0</td>\n",
       "      <td>0</td>\n",
       "      <td>0</td>\n",
       "      <td>1</td>\n",
       "      <td>1</td>\n",
       "      <td>1</td>\n",
       "      <td>2</td>\n",
       "      <td>1</td>\n",
       "      <td>1</td>\n",
       "      <td>1</td>\n",
       "      <td>0</td>\n",
       "    </tr>\n",
       "    <tr>\n",
       "      <th>9</th>\n",
       "      <td>http</td>\n",
       "      <td>www.cutepet.org</td>\n",
       "      <td>NaN</td>\n",
       "      <td>0</td>\n",
       "      <td>0</td>\n",
       "      <td>0</td>\n",
       "      <td>0</td>\n",
       "      <td>0</td>\n",
       "      <td>0</td>\n",
       "      <td>0</td>\n",
       "      <td>1</td>\n",
       "      <td>1</td>\n",
       "      <td>2</td>\n",
       "      <td>1</td>\n",
       "      <td>1</td>\n",
       "      <td>1</td>\n",
       "      <td>0</td>\n",
       "    </tr>\n",
       "  </tbody>\n",
       "</table>\n",
       "</div>"
      ],
      "text/plain": [
       "  protocol               domain_name                     address  long_url  \\\n",
       "0     http  www.liquidgeneration.com                         NaN         0   \n",
       "1     http       www.onlineanime.org                         NaN         0   \n",
       "2     http       www.ceres.dti.ne.jp  ~nekoi/senno/senfirst.html         0   \n",
       "3     http            www.galeon.com                        kmh/         0   \n",
       "4     http       www.fanworkrecs.com                         NaN         0   \n",
       "5     http        www.animehouse.com                         NaN         0   \n",
       "6     http            www2.117.ne.jp        ~mb1996ax/enadc.html         0   \n",
       "7     http          archive.rhps.org     fritters/yui/index.html         0   \n",
       "8     http    www.freecartoonsex.com                         NaN         0   \n",
       "9     http           www.cutepet.org                         NaN         0   \n",
       "\n",
       "   having_@_symbol  redirection_//_symbol  prefix_suffix_seperation  \\\n",
       "0                0                      0                         0   \n",
       "1                0                      0                         0   \n",
       "2                0                      0                         0   \n",
       "3                0                      0                         0   \n",
       "4                0                      0                         0   \n",
       "5                0                      0                         0   \n",
       "6                0                      0                         0   \n",
       "7                0                      0                         0   \n",
       "8                0                      0                         0   \n",
       "9                0                      0                         0   \n",
       "\n",
       "   sub_domains  having_ip_address  shortening_service  https_token  \\\n",
       "0            0                  0                   0            1   \n",
       "1            0                  0                   0            1   \n",
       "2            1                  0                   0            1   \n",
       "3            0                  0                   0            1   \n",
       "4            0                  0                   0            1   \n",
       "5            0                  0                   0            1   \n",
       "6            2                  0                   0            1   \n",
       "7            0                  0                   0            1   \n",
       "8            0                  0                   1            1   \n",
       "9            0                  0                   0            1   \n",
       "\n",
       "   abnormal_url  web_traffic  domain_registration_length  age_of_domain  \\\n",
       "0             1            2                           1              1   \n",
       "1             1            1                           1              1   \n",
       "2             1            0                           1              1   \n",
       "3             1            0                           1              1   \n",
       "4             1            1                           1              1   \n",
       "5             1            1                           1              1   \n",
       "6             1            2                           1              1   \n",
       "7             1            2                           1              1   \n",
       "8             1            2                           1              1   \n",
       "9             1            2                           1              1   \n",
       "\n",
       "   dns_record  statistical_report  \n",
       "0           1                   0  \n",
       "1           1                   1  \n",
       "2           1                   0  \n",
       "3           1                   0  \n",
       "4           1                   0  \n",
       "5           1                   1  \n",
       "6           1                   0  \n",
       "7           1                   0  \n",
       "8           1                   0  \n",
       "9           1                   0  "
      ]
     },
     "execution_count": 3,
     "metadata": {},
     "output_type": "execute_result"
    }
   ],
   "source": [
    "url_dataset.head(10)"
   ]
  },
  {
   "cell_type": "code",
   "execution_count": 4,
   "metadata": {},
   "outputs": [
    {
     "data": {
      "text/html": [
       "<div>\n",
       "<style scoped>\n",
       "    .dataframe tbody tr th:only-of-type {\n",
       "        vertical-align: middle;\n",
       "    }\n",
       "\n",
       "    .dataframe tbody tr th {\n",
       "        vertical-align: top;\n",
       "    }\n",
       "\n",
       "    .dataframe thead th {\n",
       "        text-align: right;\n",
       "    }\n",
       "</style>\n",
       "<table border=\"1\" class=\"dataframe\">\n",
       "  <thead>\n",
       "    <tr style=\"text-align: right;\">\n",
       "      <th></th>\n",
       "      <th>protocol</th>\n",
       "      <th>domain_name</th>\n",
       "      <th>address</th>\n",
       "      <th>long_url</th>\n",
       "      <th>having_@_symbol</th>\n",
       "      <th>redirection_//_symbol</th>\n",
       "      <th>prefix_suffix_seperation</th>\n",
       "      <th>sub_domains</th>\n",
       "      <th>having_ip_address</th>\n",
       "      <th>shortening_service</th>\n",
       "      <th>https_token</th>\n",
       "      <th>abnormal_url</th>\n",
       "      <th>web_traffic</th>\n",
       "      <th>domain_registration_length</th>\n",
       "      <th>age_of_domain</th>\n",
       "      <th>dns_record</th>\n",
       "      <th>statistical_report</th>\n",
       "    </tr>\n",
       "  </thead>\n",
       "  <tbody>\n",
       "    <tr>\n",
       "      <th>1866</th>\n",
       "      <td>http</td>\n",
       "      <td>www.guzheng.com.my</td>\n",
       "      <td>libraries/joomla/session/storage/regional/2f8a...</td>\n",
       "      <td>1</td>\n",
       "      <td>0</td>\n",
       "      <td>0</td>\n",
       "      <td>0</td>\n",
       "      <td>2</td>\n",
       "      <td>0</td>\n",
       "      <td>0</td>\n",
       "      <td>1</td>\n",
       "      <td>1</td>\n",
       "      <td>1</td>\n",
       "      <td>1</td>\n",
       "      <td>1</td>\n",
       "      <td>1</td>\n",
       "      <td>0</td>\n",
       "    </tr>\n",
       "    <tr>\n",
       "      <th>1867</th>\n",
       "      <td>http</td>\n",
       "      <td>www.ioam.org.cn</td>\n",
       "      <td>plugins/system/AtendimentoCliente-98.890.332_/...</td>\n",
       "      <td>1</td>\n",
       "      <td>0</td>\n",
       "      <td>0</td>\n",
       "      <td>0</td>\n",
       "      <td>2</td>\n",
       "      <td>0</td>\n",
       "      <td>0</td>\n",
       "      <td>1</td>\n",
       "      <td>1</td>\n",
       "      <td>1</td>\n",
       "      <td>1</td>\n",
       "      <td>1</td>\n",
       "      <td>1</td>\n",
       "      <td>0</td>\n",
       "    </tr>\n",
       "    <tr>\n",
       "      <th>1868</th>\n",
       "      <td>https</td>\n",
       "      <td>theparlourbeautyrooms.ie</td>\n",
       "      <td>dehl/Yah/T/Y1.html</td>\n",
       "      <td>0</td>\n",
       "      <td>0</td>\n",
       "      <td>0</td>\n",
       "      <td>0</td>\n",
       "      <td>0</td>\n",
       "      <td>0</td>\n",
       "      <td>0</td>\n",
       "      <td>1</td>\n",
       "      <td>1</td>\n",
       "      <td>1</td>\n",
       "      <td>1</td>\n",
       "      <td>1</td>\n",
       "      <td>1</td>\n",
       "      <td>0</td>\n",
       "    </tr>\n",
       "    <tr>\n",
       "      <th>1869</th>\n",
       "      <td>http</td>\n",
       "      <td>loogin-facebook-settinggst.esy.es</td>\n",
       "      <td>confirmations/</td>\n",
       "      <td>0</td>\n",
       "      <td>0</td>\n",
       "      <td>0</td>\n",
       "      <td>1</td>\n",
       "      <td>0</td>\n",
       "      <td>0</td>\n",
       "      <td>0</td>\n",
       "      <td>1</td>\n",
       "      <td>1</td>\n",
       "      <td>1</td>\n",
       "      <td>1</td>\n",
       "      <td>1</td>\n",
       "      <td>1</td>\n",
       "      <td>1</td>\n",
       "    </tr>\n",
       "    <tr>\n",
       "      <th>1870</th>\n",
       "      <td>http</td>\n",
       "      <td>halpcenter-acontscheck.esy.es</td>\n",
       "      <td>recovery-chekpoint-login.html</td>\n",
       "      <td>0</td>\n",
       "      <td>0</td>\n",
       "      <td>0</td>\n",
       "      <td>1</td>\n",
       "      <td>0</td>\n",
       "      <td>0</td>\n",
       "      <td>0</td>\n",
       "      <td>1</td>\n",
       "      <td>1</td>\n",
       "      <td>1</td>\n",
       "      <td>1</td>\n",
       "      <td>1</td>\n",
       "      <td>1</td>\n",
       "      <td>1</td>\n",
       "    </tr>\n",
       "  </tbody>\n",
       "</table>\n",
       "</div>"
      ],
      "text/plain": [
       "     protocol                        domain_name  \\\n",
       "1866     http                 www.guzheng.com.my   \n",
       "1867     http                    www.ioam.org.cn   \n",
       "1868    https           theparlourbeautyrooms.ie   \n",
       "1869     http  loogin-facebook-settinggst.esy.es   \n",
       "1870     http      halpcenter-acontscheck.esy.es   \n",
       "\n",
       "                                                address  long_url  \\\n",
       "1866  libraries/joomla/session/storage/regional/2f8a...         1   \n",
       "1867  plugins/system/AtendimentoCliente-98.890.332_/...         1   \n",
       "1868                                 dehl/Yah/T/Y1.html         0   \n",
       "1869                                     confirmations/         0   \n",
       "1870                      recovery-chekpoint-login.html         0   \n",
       "\n",
       "      having_@_symbol  redirection_//_symbol  prefix_suffix_seperation  \\\n",
       "1866                0                      0                         0   \n",
       "1867                0                      0                         0   \n",
       "1868                0                      0                         0   \n",
       "1869                0                      0                         1   \n",
       "1870                0                      0                         1   \n",
       "\n",
       "      sub_domains  having_ip_address  shortening_service  https_token  \\\n",
       "1866            2                  0                   0            1   \n",
       "1867            2                  0                   0            1   \n",
       "1868            0                  0                   0            1   \n",
       "1869            0                  0                   0            1   \n",
       "1870            0                  0                   0            1   \n",
       "\n",
       "      abnormal_url  web_traffic  domain_registration_length  age_of_domain  \\\n",
       "1866             1            1                           1              1   \n",
       "1867             1            1                           1              1   \n",
       "1868             1            1                           1              1   \n",
       "1869             1            1                           1              1   \n",
       "1870             1            1                           1              1   \n",
       "\n",
       "      dns_record  statistical_report  \n",
       "1866           1                   0  \n",
       "1867           1                   0  \n",
       "1868           1                   0  \n",
       "1869           1                   1  \n",
       "1870           1                   1  "
      ]
     },
     "execution_count": 4,
     "metadata": {},
     "output_type": "execute_result"
    }
   ],
   "source": [
    "url_dataset.tail()"
   ]
  },
  {
   "cell_type": "code",
   "execution_count": 5,
   "metadata": {},
   "outputs": [
    {
     "data": {
      "text/plain": [
       "(1871, 17)"
      ]
     },
     "execution_count": 5,
     "metadata": {},
     "output_type": "execute_result"
    }
   ],
   "source": [
    "url_dataset.shape"
   ]
  },
  {
   "cell_type": "code",
   "execution_count": 6,
   "metadata": {},
   "outputs": [
    {
     "data": {
      "text/plain": [
       "protocol                        0\n",
       "domain_name                     1\n",
       "address                       322\n",
       "long_url                        0\n",
       "having_@_symbol                 0\n",
       "redirection_//_symbol           0\n",
       "prefix_suffix_seperation        0\n",
       "sub_domains                     0\n",
       "having_ip_address               0\n",
       "shortening_service              0\n",
       "https_token                     0\n",
       "abnormal_url                    0\n",
       "web_traffic                     0\n",
       "domain_registration_length      0\n",
       "age_of_domain                   0\n",
       "dns_record                      0\n",
       "statistical_report              0\n",
       "dtype: int64"
      ]
     },
     "execution_count": 6,
     "metadata": {},
     "output_type": "execute_result"
    }
   ],
   "source": [
    "url_dataset.isnull().sum()"
   ]
  },
  {
   "cell_type": "code",
   "execution_count": 7,
   "metadata": {
    "colab": {
     "base_uri": "https://localhost:8080/"
    },
    "executionInfo": {
     "elapsed": 32,
     "status": "ok",
     "timestamp": 1626508689635,
     "user": {
      "displayName": "pantech elearning",
      "photoUrl": "",
      "userId": "02085171050783995221"
     },
     "user_tz": -330
    },
    "id": "MUUshgWjx9ip",
    "outputId": "9a75f4c9-3b4b-4839-91cb-1c2c5081fcae"
   },
   "outputs": [
    {
     "data": {
      "text/plain": [
       "Index(['protocol', 'domain_name', 'address', 'long_url', 'having_@_symbol',\n",
       "       'redirection_//_symbol', 'prefix_suffix_seperation', 'sub_domains',\n",
       "       'having_ip_address', 'shortening_service', 'https_token',\n",
       "       'abnormal_url', 'web_traffic', 'domain_registration_length',\n",
       "       'age_of_domain', 'dns_record', 'statistical_report'],\n",
       "      dtype='object')"
      ]
     },
     "execution_count": 7,
     "metadata": {},
     "output_type": "execute_result"
    }
   ],
   "source": [
    "url_dataset.columns"
   ]
  },
  {
   "cell_type": "code",
   "execution_count": 8,
   "metadata": {
    "executionInfo": {
     "elapsed": 26,
     "status": "ok",
     "timestamp": 1626508689637,
     "user": {
      "displayName": "pantech elearning",
      "photoUrl": "",
      "userId": "02085171050783995221"
     },
     "user_tz": -330
    },
    "id": "6rIC6C0ix9ip"
   },
   "outputs": [],
   "source": [
    "urls = url_dataset.drop(url_dataset.columns[[0,1,2]],axis=1)"
   ]
  },
  {
   "cell_type": "code",
   "execution_count": 9,
   "metadata": {
    "colab": {
     "base_uri": "https://localhost:8080/",
     "height": 222
    },
    "executionInfo": {
     "elapsed": 25,
     "status": "ok",
     "timestamp": 1626508689638,
     "user": {
      "displayName": "pantech elearning",
      "photoUrl": "",
      "userId": "02085171050783995221"
     },
     "user_tz": -330
    },
    "id": "1m0qatJgx9iq",
    "outputId": "8c6ddd63-f425-45a0-f5c2-f854c9e88fe3"
   },
   "outputs": [
    {
     "data": {
      "text/html": [
       "<div>\n",
       "<style scoped>\n",
       "    .dataframe tbody tr th:only-of-type {\n",
       "        vertical-align: middle;\n",
       "    }\n",
       "\n",
       "    .dataframe tbody tr th {\n",
       "        vertical-align: top;\n",
       "    }\n",
       "\n",
       "    .dataframe thead th {\n",
       "        text-align: right;\n",
       "    }\n",
       "</style>\n",
       "<table border=\"1\" class=\"dataframe\">\n",
       "  <thead>\n",
       "    <tr style=\"text-align: right;\">\n",
       "      <th></th>\n",
       "      <th>long_url</th>\n",
       "      <th>having_@_symbol</th>\n",
       "      <th>redirection_//_symbol</th>\n",
       "      <th>prefix_suffix_seperation</th>\n",
       "      <th>sub_domains</th>\n",
       "      <th>having_ip_address</th>\n",
       "      <th>shortening_service</th>\n",
       "      <th>https_token</th>\n",
       "      <th>abnormal_url</th>\n",
       "      <th>web_traffic</th>\n",
       "      <th>domain_registration_length</th>\n",
       "      <th>age_of_domain</th>\n",
       "      <th>dns_record</th>\n",
       "      <th>statistical_report</th>\n",
       "    </tr>\n",
       "  </thead>\n",
       "  <tbody>\n",
       "    <tr>\n",
       "      <th>0</th>\n",
       "      <td>0</td>\n",
       "      <td>0</td>\n",
       "      <td>0</td>\n",
       "      <td>0</td>\n",
       "      <td>0</td>\n",
       "      <td>0</td>\n",
       "      <td>0</td>\n",
       "      <td>1</td>\n",
       "      <td>1</td>\n",
       "      <td>2</td>\n",
       "      <td>1</td>\n",
       "      <td>1</td>\n",
       "      <td>1</td>\n",
       "      <td>0</td>\n",
       "    </tr>\n",
       "    <tr>\n",
       "      <th>1</th>\n",
       "      <td>0</td>\n",
       "      <td>0</td>\n",
       "      <td>0</td>\n",
       "      <td>0</td>\n",
       "      <td>0</td>\n",
       "      <td>0</td>\n",
       "      <td>0</td>\n",
       "      <td>1</td>\n",
       "      <td>1</td>\n",
       "      <td>1</td>\n",
       "      <td>1</td>\n",
       "      <td>1</td>\n",
       "      <td>1</td>\n",
       "      <td>1</td>\n",
       "    </tr>\n",
       "    <tr>\n",
       "      <th>2</th>\n",
       "      <td>0</td>\n",
       "      <td>0</td>\n",
       "      <td>0</td>\n",
       "      <td>0</td>\n",
       "      <td>1</td>\n",
       "      <td>0</td>\n",
       "      <td>0</td>\n",
       "      <td>1</td>\n",
       "      <td>1</td>\n",
       "      <td>0</td>\n",
       "      <td>1</td>\n",
       "      <td>1</td>\n",
       "      <td>1</td>\n",
       "      <td>0</td>\n",
       "    </tr>\n",
       "    <tr>\n",
       "      <th>3</th>\n",
       "      <td>0</td>\n",
       "      <td>0</td>\n",
       "      <td>0</td>\n",
       "      <td>0</td>\n",
       "      <td>0</td>\n",
       "      <td>0</td>\n",
       "      <td>0</td>\n",
       "      <td>1</td>\n",
       "      <td>1</td>\n",
       "      <td>0</td>\n",
       "      <td>1</td>\n",
       "      <td>1</td>\n",
       "      <td>1</td>\n",
       "      <td>0</td>\n",
       "    </tr>\n",
       "    <tr>\n",
       "      <th>4</th>\n",
       "      <td>0</td>\n",
       "      <td>0</td>\n",
       "      <td>0</td>\n",
       "      <td>0</td>\n",
       "      <td>0</td>\n",
       "      <td>0</td>\n",
       "      <td>0</td>\n",
       "      <td>1</td>\n",
       "      <td>1</td>\n",
       "      <td>1</td>\n",
       "      <td>1</td>\n",
       "      <td>1</td>\n",
       "      <td>1</td>\n",
       "      <td>0</td>\n",
       "    </tr>\n",
       "  </tbody>\n",
       "</table>\n",
       "</div>"
      ],
      "text/plain": [
       "   long_url  having_@_symbol  redirection_//_symbol  prefix_suffix_seperation  \\\n",
       "0         0                0                      0                         0   \n",
       "1         0                0                      0                         0   \n",
       "2         0                0                      0                         0   \n",
       "3         0                0                      0                         0   \n",
       "4         0                0                      0                         0   \n",
       "\n",
       "   sub_domains  having_ip_address  shortening_service  https_token  \\\n",
       "0            0                  0                   0            1   \n",
       "1            0                  0                   0            1   \n",
       "2            1                  0                   0            1   \n",
       "3            0                  0                   0            1   \n",
       "4            0                  0                   0            1   \n",
       "\n",
       "   abnormal_url  web_traffic  domain_registration_length  age_of_domain  \\\n",
       "0             1            2                           1              1   \n",
       "1             1            1                           1              1   \n",
       "2             1            0                           1              1   \n",
       "3             1            0                           1              1   \n",
       "4             1            1                           1              1   \n",
       "\n",
       "   dns_record  statistical_report  \n",
       "0           1                   0  \n",
       "1           1                   1  \n",
       "2           1                   0  \n",
       "3           1                   0  \n",
       "4           1                   0  "
      ]
     },
     "execution_count": 9,
     "metadata": {},
     "output_type": "execute_result"
    }
   ],
   "source": [
    "urls.head()"
   ]
  },
  {
   "cell_type": "code",
   "execution_count": 10,
   "metadata": {
    "executionInfo": {
     "elapsed": 23,
     "status": "ok",
     "timestamp": 1626508689639,
     "user": {
      "displayName": "pantech elearning",
      "photoUrl": "",
      "userId": "02085171050783995221"
     },
     "user_tz": -330
    },
    "id": "glRORPsgx9ir"
   },
   "outputs": [],
   "source": [
    "urls = urls.sample(frac=1).reset_index(drop=True)"
   ]
  },
  {
   "cell_type": "code",
   "execution_count": 11,
   "metadata": {
    "executionInfo": {
     "elapsed": 23,
     "status": "ok",
     "timestamp": 1626508689640,
     "user": {
      "displayName": "pantech elearning",
      "photoUrl": "",
      "userId": "02085171050783995221"
     },
     "user_tz": -330
    },
    "id": "MpXxUiOux9is"
   },
   "outputs": [],
   "source": [
    "urls_without_labels = urls.drop('statistical_report',axis=1)\n",
    "urls_without_labels.columns\n",
    "labels = urls['statistical_report']"
   ]
  },
  {
   "cell_type": "code",
   "execution_count": 12,
   "metadata": {
    "executionInfo": {
     "elapsed": 563,
     "status": "ok",
     "timestamp": 1626508690180,
     "user": {
      "displayName": "pantech elearning",
      "photoUrl": "",
      "userId": "02085171050783995221"
     },
     "user_tz": -330
    },
    "id": "3d-5_m8Ax9it"
   },
   "outputs": [],
   "source": [
    "from sklearn.model_selection import train_test_split\n",
    "data_train, data_test, labels_train, labels_test = train_test_split(urls_without_labels, labels, test_size=0.30, random_state=110)"
   ]
  },
  {
   "cell_type": "code",
   "execution_count": 13,
   "metadata": {},
   "outputs": [
    {
     "data": {
      "text/html": [
       "<div>\n",
       "<style scoped>\n",
       "    .dataframe tbody tr th:only-of-type {\n",
       "        vertical-align: middle;\n",
       "    }\n",
       "\n",
       "    .dataframe tbody tr th {\n",
       "        vertical-align: top;\n",
       "    }\n",
       "\n",
       "    .dataframe thead th {\n",
       "        text-align: right;\n",
       "    }\n",
       "</style>\n",
       "<table border=\"1\" class=\"dataframe\">\n",
       "  <thead>\n",
       "    <tr style=\"text-align: right;\">\n",
       "      <th></th>\n",
       "      <th>long_url</th>\n",
       "      <th>having_@_symbol</th>\n",
       "      <th>redirection_//_symbol</th>\n",
       "      <th>prefix_suffix_seperation</th>\n",
       "      <th>sub_domains</th>\n",
       "      <th>having_ip_address</th>\n",
       "      <th>shortening_service</th>\n",
       "      <th>https_token</th>\n",
       "      <th>abnormal_url</th>\n",
       "      <th>web_traffic</th>\n",
       "      <th>domain_registration_length</th>\n",
       "      <th>age_of_domain</th>\n",
       "      <th>dns_record</th>\n",
       "    </tr>\n",
       "  </thead>\n",
       "  <tbody>\n",
       "    <tr>\n",
       "      <th>0</th>\n",
       "      <td>0</td>\n",
       "      <td>0</td>\n",
       "      <td>0</td>\n",
       "      <td>0</td>\n",
       "      <td>0</td>\n",
       "      <td>0</td>\n",
       "      <td>0</td>\n",
       "      <td>1</td>\n",
       "      <td>1</td>\n",
       "      <td>1</td>\n",
       "      <td>1</td>\n",
       "      <td>1</td>\n",
       "      <td>1</td>\n",
       "    </tr>\n",
       "    <tr>\n",
       "      <th>1</th>\n",
       "      <td>0</td>\n",
       "      <td>0</td>\n",
       "      <td>0</td>\n",
       "      <td>0</td>\n",
       "      <td>0</td>\n",
       "      <td>0</td>\n",
       "      <td>0</td>\n",
       "      <td>1</td>\n",
       "      <td>1</td>\n",
       "      <td>1</td>\n",
       "      <td>1</td>\n",
       "      <td>1</td>\n",
       "      <td>1</td>\n",
       "    </tr>\n",
       "    <tr>\n",
       "      <th>2</th>\n",
       "      <td>0</td>\n",
       "      <td>0</td>\n",
       "      <td>0</td>\n",
       "      <td>1</td>\n",
       "      <td>0</td>\n",
       "      <td>0</td>\n",
       "      <td>0</td>\n",
       "      <td>1</td>\n",
       "      <td>1</td>\n",
       "      <td>2</td>\n",
       "      <td>1</td>\n",
       "      <td>1</td>\n",
       "      <td>1</td>\n",
       "    </tr>\n",
       "    <tr>\n",
       "      <th>3</th>\n",
       "      <td>0</td>\n",
       "      <td>0</td>\n",
       "      <td>0</td>\n",
       "      <td>0</td>\n",
       "      <td>2</td>\n",
       "      <td>0</td>\n",
       "      <td>0</td>\n",
       "      <td>1</td>\n",
       "      <td>1</td>\n",
       "      <td>2</td>\n",
       "      <td>1</td>\n",
       "      <td>1</td>\n",
       "      <td>1</td>\n",
       "    </tr>\n",
       "    <tr>\n",
       "      <th>4</th>\n",
       "      <td>0</td>\n",
       "      <td>0</td>\n",
       "      <td>0</td>\n",
       "      <td>0</td>\n",
       "      <td>0</td>\n",
       "      <td>0</td>\n",
       "      <td>0</td>\n",
       "      <td>1</td>\n",
       "      <td>1</td>\n",
       "      <td>1</td>\n",
       "      <td>1</td>\n",
       "      <td>1</td>\n",
       "      <td>1</td>\n",
       "    </tr>\n",
       "    <tr>\n",
       "      <th>...</th>\n",
       "      <td>...</td>\n",
       "      <td>...</td>\n",
       "      <td>...</td>\n",
       "      <td>...</td>\n",
       "      <td>...</td>\n",
       "      <td>...</td>\n",
       "      <td>...</td>\n",
       "      <td>...</td>\n",
       "      <td>...</td>\n",
       "      <td>...</td>\n",
       "      <td>...</td>\n",
       "      <td>...</td>\n",
       "      <td>...</td>\n",
       "    </tr>\n",
       "    <tr>\n",
       "      <th>1866</th>\n",
       "      <td>0</td>\n",
       "      <td>0</td>\n",
       "      <td>0</td>\n",
       "      <td>0</td>\n",
       "      <td>0</td>\n",
       "      <td>0</td>\n",
       "      <td>0</td>\n",
       "      <td>1</td>\n",
       "      <td>1</td>\n",
       "      <td>2</td>\n",
       "      <td>1</td>\n",
       "      <td>1</td>\n",
       "      <td>1</td>\n",
       "    </tr>\n",
       "    <tr>\n",
       "      <th>1867</th>\n",
       "      <td>1</td>\n",
       "      <td>0</td>\n",
       "      <td>0</td>\n",
       "      <td>0</td>\n",
       "      <td>0</td>\n",
       "      <td>0</td>\n",
       "      <td>0</td>\n",
       "      <td>1</td>\n",
       "      <td>1</td>\n",
       "      <td>1</td>\n",
       "      <td>1</td>\n",
       "      <td>1</td>\n",
       "      <td>1</td>\n",
       "    </tr>\n",
       "    <tr>\n",
       "      <th>1868</th>\n",
       "      <td>0</td>\n",
       "      <td>0</td>\n",
       "      <td>0</td>\n",
       "      <td>0</td>\n",
       "      <td>0</td>\n",
       "      <td>0</td>\n",
       "      <td>0</td>\n",
       "      <td>1</td>\n",
       "      <td>1</td>\n",
       "      <td>0</td>\n",
       "      <td>1</td>\n",
       "      <td>1</td>\n",
       "      <td>1</td>\n",
       "    </tr>\n",
       "    <tr>\n",
       "      <th>1869</th>\n",
       "      <td>1</td>\n",
       "      <td>0</td>\n",
       "      <td>0</td>\n",
       "      <td>0</td>\n",
       "      <td>0</td>\n",
       "      <td>0</td>\n",
       "      <td>0</td>\n",
       "      <td>1</td>\n",
       "      <td>1</td>\n",
       "      <td>1</td>\n",
       "      <td>1</td>\n",
       "      <td>1</td>\n",
       "      <td>1</td>\n",
       "    </tr>\n",
       "    <tr>\n",
       "      <th>1870</th>\n",
       "      <td>0</td>\n",
       "      <td>0</td>\n",
       "      <td>0</td>\n",
       "      <td>0</td>\n",
       "      <td>1</td>\n",
       "      <td>0</td>\n",
       "      <td>0</td>\n",
       "      <td>1</td>\n",
       "      <td>1</td>\n",
       "      <td>0</td>\n",
       "      <td>1</td>\n",
       "      <td>1</td>\n",
       "      <td>1</td>\n",
       "    </tr>\n",
       "  </tbody>\n",
       "</table>\n",
       "<p>1871 rows × 13 columns</p>\n",
       "</div>"
      ],
      "text/plain": [
       "      long_url  having_@_symbol  redirection_//_symbol  \\\n",
       "0            0                0                      0   \n",
       "1            0                0                      0   \n",
       "2            0                0                      0   \n",
       "3            0                0                      0   \n",
       "4            0                0                      0   \n",
       "...        ...              ...                    ...   \n",
       "1866         0                0                      0   \n",
       "1867         1                0                      0   \n",
       "1868         0                0                      0   \n",
       "1869         1                0                      0   \n",
       "1870         0                0                      0   \n",
       "\n",
       "      prefix_suffix_seperation  sub_domains  having_ip_address  \\\n",
       "0                            0            0                  0   \n",
       "1                            0            0                  0   \n",
       "2                            1            0                  0   \n",
       "3                            0            2                  0   \n",
       "4                            0            0                  0   \n",
       "...                        ...          ...                ...   \n",
       "1866                         0            0                  0   \n",
       "1867                         0            0                  0   \n",
       "1868                         0            0                  0   \n",
       "1869                         0            0                  0   \n",
       "1870                         0            1                  0   \n",
       "\n",
       "      shortening_service  https_token  abnormal_url  web_traffic  \\\n",
       "0                      0            1             1            1   \n",
       "1                      0            1             1            1   \n",
       "2                      0            1             1            2   \n",
       "3                      0            1             1            2   \n",
       "4                      0            1             1            1   \n",
       "...                  ...          ...           ...          ...   \n",
       "1866                   0            1             1            2   \n",
       "1867                   0            1             1            1   \n",
       "1868                   0            1             1            0   \n",
       "1869                   0            1             1            1   \n",
       "1870                   0            1             1            0   \n",
       "\n",
       "      domain_registration_length  age_of_domain  dns_record  \n",
       "0                              1              1           1  \n",
       "1                              1              1           1  \n",
       "2                              1              1           1  \n",
       "3                              1              1           1  \n",
       "4                              1              1           1  \n",
       "...                          ...            ...         ...  \n",
       "1866                           1              1           1  \n",
       "1867                           1              1           1  \n",
       "1868                           1              1           1  \n",
       "1869                           1              1           1  \n",
       "1870                           1              1           1  \n",
       "\n",
       "[1871 rows x 13 columns]"
      ]
     },
     "execution_count": 13,
     "metadata": {},
     "output_type": "execute_result"
    }
   ],
   "source": [
    "urls_without_labels"
   ]
  },
  {
   "cell_type": "code",
   "execution_count": 14,
   "metadata": {},
   "outputs": [
    {
     "data": {
      "text/plain": [
       "0       1\n",
       "1       0\n",
       "2       0\n",
       "3       0\n",
       "4       1\n",
       "       ..\n",
       "1866    1\n",
       "1867    1\n",
       "1868    0\n",
       "1869    1\n",
       "1870    0\n",
       "Name: statistical_report, Length: 1871, dtype: int64"
      ]
     },
     "execution_count": 14,
     "metadata": {},
     "output_type": "execute_result"
    }
   ],
   "source": [
    "labels"
   ]
  },
  {
   "cell_type": "code",
   "execution_count": 15,
   "metadata": {
    "colab": {
     "base_uri": "https://localhost:8080/"
    },
    "executionInfo": {
     "elapsed": 17,
     "status": "ok",
     "timestamp": 1626508690181,
     "user": {
      "displayName": "pantech elearning",
      "photoUrl": "",
      "userId": "02085171050783995221"
     },
     "user_tz": -330
    },
    "id": "ebJbn3Jex9iu",
    "outputId": "0dd3e13f-c3fa-4ccb-aa3e-b7e8947d7959"
   },
   "outputs": [
    {
     "name": "stdout",
     "output_type": "stream",
     "text": [
      "1309 562 1309 562\n"
     ]
    }
   ],
   "source": [
    "print(len(data_train),len(data_test),len(labels_train),len(labels_test))"
   ]
  },
  {
   "cell_type": "code",
   "execution_count": 16,
   "metadata": {
    "colab": {
     "base_uri": "https://localhost:8080/"
    },
    "executionInfo": {
     "elapsed": 16,
     "status": "ok",
     "timestamp": 1626508690182,
     "user": {
      "displayName": "pantech elearning",
      "photoUrl": "",
      "userId": "02085171050783995221"
     },
     "user_tz": -330
    },
    "id": "MvjUXmtWx9iu",
    "outputId": "a8bb0f1e-2fd6-4a5a-d504-d617a31d5026"
   },
   "outputs": [
    {
     "data": {
      "text/plain": [
       "0    939\n",
       "1    370\n",
       "Name: statistical_report, dtype: int64"
      ]
     },
     "execution_count": 16,
     "metadata": {},
     "output_type": "execute_result"
    }
   ],
   "source": [
    "labels_train.value_counts()"
   ]
  },
  {
   "cell_type": "code",
   "execution_count": 17,
   "metadata": {
    "colab": {
     "base_uri": "https://localhost:8080/"
    },
    "executionInfo": {
     "elapsed": 13,
     "status": "ok",
     "timestamp": 1626508690182,
     "user": {
      "displayName": "pantech elearning",
      "photoUrl": "",
      "userId": "02085171050783995221"
     },
     "user_tz": -330
    },
    "id": "LrMdnhFpx9iv",
    "outputId": "f8c71b15-7280-4819-c254-aa256643eed4"
   },
   "outputs": [
    {
     "data": {
      "text/plain": [
       "0    402\n",
       "1    160\n",
       "Name: statistical_report, dtype: int64"
      ]
     },
     "execution_count": 17,
     "metadata": {},
     "output_type": "execute_result"
    }
   ],
   "source": [
    "labels_test.value_counts()"
   ]
  },
  {
   "cell_type": "markdown",
   "metadata": {
    "id": "7tyjv5g1x9iv"
   },
   "source": [
    "# Random Forest"
   ]
  },
  {
   "cell_type": "code",
   "execution_count": 18,
   "metadata": {
    "executionInfo": {
     "elapsed": 11,
     "status": "ok",
     "timestamp": 1626508690183,
     "user": {
      "displayName": "pantech elearning",
      "photoUrl": "",
      "userId": "02085171050783995221"
     },
     "user_tz": -330
    },
    "id": "pd21vY4Ox9iw"
   },
   "outputs": [],
   "source": [
    "from sklearn.ensemble import RandomForestClassifier\n",
    "\n",
    "model1=RandomForestClassifier()\n"
   ]
  },
  {
   "cell_type": "code",
   "execution_count": 19,
   "metadata": {
    "colab": {
     "base_uri": "https://localhost:8080/"
    },
    "executionInfo": {
     "elapsed": 10,
     "status": "ok",
     "timestamp": 1626508690183,
     "user": {
      "displayName": "pantech elearning",
      "photoUrl": "",
      "userId": "02085171050783995221"
     },
     "user_tz": -330
    },
    "id": "AO2aofLXx9iw",
    "outputId": "99b71f7b-80e6-4af4-d025-4afcbda7bbf2"
   },
   "outputs": [
    {
     "data": {
      "text/html": [
       "<style>#sk-container-id-1 {color: black;}#sk-container-id-1 pre{padding: 0;}#sk-container-id-1 div.sk-toggleable {background-color: white;}#sk-container-id-1 label.sk-toggleable__label {cursor: pointer;display: block;width: 100%;margin-bottom: 0;padding: 0.3em;box-sizing: border-box;text-align: center;}#sk-container-id-1 label.sk-toggleable__label-arrow:before {content: \"▸\";float: left;margin-right: 0.25em;color: #696969;}#sk-container-id-1 label.sk-toggleable__label-arrow:hover:before {color: black;}#sk-container-id-1 div.sk-estimator:hover label.sk-toggleable__label-arrow:before {color: black;}#sk-container-id-1 div.sk-toggleable__content {max-height: 0;max-width: 0;overflow: hidden;text-align: left;background-color: #f0f8ff;}#sk-container-id-1 div.sk-toggleable__content pre {margin: 0.2em;color: black;border-radius: 0.25em;background-color: #f0f8ff;}#sk-container-id-1 input.sk-toggleable__control:checked~div.sk-toggleable__content {max-height: 200px;max-width: 100%;overflow: auto;}#sk-container-id-1 input.sk-toggleable__control:checked~label.sk-toggleable__label-arrow:before {content: \"▾\";}#sk-container-id-1 div.sk-estimator input.sk-toggleable__control:checked~label.sk-toggleable__label {background-color: #d4ebff;}#sk-container-id-1 div.sk-label input.sk-toggleable__control:checked~label.sk-toggleable__label {background-color: #d4ebff;}#sk-container-id-1 input.sk-hidden--visually {border: 0;clip: rect(1px 1px 1px 1px);clip: rect(1px, 1px, 1px, 1px);height: 1px;margin: -1px;overflow: hidden;padding: 0;position: absolute;width: 1px;}#sk-container-id-1 div.sk-estimator {font-family: monospace;background-color: #f0f8ff;border: 1px dotted black;border-radius: 0.25em;box-sizing: border-box;margin-bottom: 0.5em;}#sk-container-id-1 div.sk-estimator:hover {background-color: #d4ebff;}#sk-container-id-1 div.sk-parallel-item::after {content: \"\";width: 100%;border-bottom: 1px solid gray;flex-grow: 1;}#sk-container-id-1 div.sk-label:hover label.sk-toggleable__label {background-color: #d4ebff;}#sk-container-id-1 div.sk-serial::before {content: \"\";position: absolute;border-left: 1px solid gray;box-sizing: border-box;top: 0;bottom: 0;left: 50%;z-index: 0;}#sk-container-id-1 div.sk-serial {display: flex;flex-direction: column;align-items: center;background-color: white;padding-right: 0.2em;padding-left: 0.2em;position: relative;}#sk-container-id-1 div.sk-item {position: relative;z-index: 1;}#sk-container-id-1 div.sk-parallel {display: flex;align-items: stretch;justify-content: center;background-color: white;position: relative;}#sk-container-id-1 div.sk-item::before, #sk-container-id-1 div.sk-parallel-item::before {content: \"\";position: absolute;border-left: 1px solid gray;box-sizing: border-box;top: 0;bottom: 0;left: 50%;z-index: -1;}#sk-container-id-1 div.sk-parallel-item {display: flex;flex-direction: column;z-index: 1;position: relative;background-color: white;}#sk-container-id-1 div.sk-parallel-item:first-child::after {align-self: flex-end;width: 50%;}#sk-container-id-1 div.sk-parallel-item:last-child::after {align-self: flex-start;width: 50%;}#sk-container-id-1 div.sk-parallel-item:only-child::after {width: 0;}#sk-container-id-1 div.sk-dashed-wrapped {border: 1px dashed gray;margin: 0 0.4em 0.5em 0.4em;box-sizing: border-box;padding-bottom: 0.4em;background-color: white;}#sk-container-id-1 div.sk-label label {font-family: monospace;font-weight: bold;display: inline-block;line-height: 1.2em;}#sk-container-id-1 div.sk-label-container {text-align: center;}#sk-container-id-1 div.sk-container {/* jupyter's `normalize.less` sets `[hidden] { display: none; }` but bootstrap.min.css set `[hidden] { display: none !important; }` so we also need the `!important` here to be able to override the default hidden behavior on the sphinx rendered scikit-learn.org. See: https://github.com/scikit-learn/scikit-learn/issues/21755 */display: inline-block !important;position: relative;}#sk-container-id-1 div.sk-text-repr-fallback {display: none;}</style><div id=\"sk-container-id-1\" class=\"sk-top-container\"><div class=\"sk-text-repr-fallback\"><pre>RandomForestClassifier()</pre><b>In a Jupyter environment, please rerun this cell to show the HTML representation or trust the notebook. <br />On GitHub, the HTML representation is unable to render, please try loading this page with nbviewer.org.</b></div><div class=\"sk-container\" hidden><div class=\"sk-item\"><div class=\"sk-estimator sk-toggleable\"><input class=\"sk-toggleable__control sk-hidden--visually\" id=\"sk-estimator-id-1\" type=\"checkbox\" checked><label for=\"sk-estimator-id-1\" class=\"sk-toggleable__label sk-toggleable__label-arrow\">RandomForestClassifier</label><div class=\"sk-toggleable__content\"><pre>RandomForestClassifier()</pre></div></div></div></div></div>"
      ],
      "text/plain": [
       "RandomForestClassifier()"
      ]
     },
     "execution_count": 19,
     "metadata": {},
     "output_type": "execute_result"
    }
   ],
   "source": [
    "model1.fit(data_train,labels_train)\n"
   ]
  },
  {
   "cell_type": "code",
   "execution_count": 20,
   "metadata": {},
   "outputs": [
    {
     "data": {
      "text/html": [
       "<div>\n",
       "<style scoped>\n",
       "    .dataframe tbody tr th:only-of-type {\n",
       "        vertical-align: middle;\n",
       "    }\n",
       "\n",
       "    .dataframe tbody tr th {\n",
       "        vertical-align: top;\n",
       "    }\n",
       "\n",
       "    .dataframe thead th {\n",
       "        text-align: right;\n",
       "    }\n",
       "</style>\n",
       "<table border=\"1\" class=\"dataframe\">\n",
       "  <thead>\n",
       "    <tr style=\"text-align: right;\">\n",
       "      <th></th>\n",
       "      <th>long_url</th>\n",
       "      <th>having_@_symbol</th>\n",
       "      <th>redirection_//_symbol</th>\n",
       "      <th>prefix_suffix_seperation</th>\n",
       "      <th>sub_domains</th>\n",
       "      <th>having_ip_address</th>\n",
       "      <th>shortening_service</th>\n",
       "      <th>https_token</th>\n",
       "      <th>abnormal_url</th>\n",
       "      <th>web_traffic</th>\n",
       "      <th>domain_registration_length</th>\n",
       "      <th>age_of_domain</th>\n",
       "      <th>dns_record</th>\n",
       "    </tr>\n",
       "  </thead>\n",
       "  <tbody>\n",
       "    <tr>\n",
       "      <th>1120</th>\n",
       "      <td>0</td>\n",
       "      <td>0</td>\n",
       "      <td>0</td>\n",
       "      <td>0</td>\n",
       "      <td>0</td>\n",
       "      <td>0</td>\n",
       "      <td>0</td>\n",
       "      <td>1</td>\n",
       "      <td>1</td>\n",
       "      <td>1</td>\n",
       "      <td>1</td>\n",
       "      <td>1</td>\n",
       "      <td>1</td>\n",
       "    </tr>\n",
       "    <tr>\n",
       "      <th>841</th>\n",
       "      <td>0</td>\n",
       "      <td>0</td>\n",
       "      <td>0</td>\n",
       "      <td>0</td>\n",
       "      <td>0</td>\n",
       "      <td>0</td>\n",
       "      <td>0</td>\n",
       "      <td>1</td>\n",
       "      <td>1</td>\n",
       "      <td>1</td>\n",
       "      <td>1</td>\n",
       "      <td>1</td>\n",
       "      <td>1</td>\n",
       "    </tr>\n",
       "    <tr>\n",
       "      <th>1682</th>\n",
       "      <td>0</td>\n",
       "      <td>0</td>\n",
       "      <td>0</td>\n",
       "      <td>0</td>\n",
       "      <td>0</td>\n",
       "      <td>0</td>\n",
       "      <td>0</td>\n",
       "      <td>1</td>\n",
       "      <td>1</td>\n",
       "      <td>1</td>\n",
       "      <td>1</td>\n",
       "      <td>1</td>\n",
       "      <td>1</td>\n",
       "    </tr>\n",
       "    <tr>\n",
       "      <th>483</th>\n",
       "      <td>0</td>\n",
       "      <td>0</td>\n",
       "      <td>0</td>\n",
       "      <td>1</td>\n",
       "      <td>0</td>\n",
       "      <td>0</td>\n",
       "      <td>0</td>\n",
       "      <td>1</td>\n",
       "      <td>1</td>\n",
       "      <td>1</td>\n",
       "      <td>1</td>\n",
       "      <td>1</td>\n",
       "      <td>1</td>\n",
       "    </tr>\n",
       "    <tr>\n",
       "      <th>1305</th>\n",
       "      <td>0</td>\n",
       "      <td>0</td>\n",
       "      <td>0</td>\n",
       "      <td>1</td>\n",
       "      <td>0</td>\n",
       "      <td>0</td>\n",
       "      <td>0</td>\n",
       "      <td>1</td>\n",
       "      <td>1</td>\n",
       "      <td>1</td>\n",
       "      <td>1</td>\n",
       "      <td>1</td>\n",
       "      <td>1</td>\n",
       "    </tr>\n",
       "    <tr>\n",
       "      <th>...</th>\n",
       "      <td>...</td>\n",
       "      <td>...</td>\n",
       "      <td>...</td>\n",
       "      <td>...</td>\n",
       "      <td>...</td>\n",
       "      <td>...</td>\n",
       "      <td>...</td>\n",
       "      <td>...</td>\n",
       "      <td>...</td>\n",
       "      <td>...</td>\n",
       "      <td>...</td>\n",
       "      <td>...</td>\n",
       "      <td>...</td>\n",
       "    </tr>\n",
       "    <tr>\n",
       "      <th>381</th>\n",
       "      <td>0</td>\n",
       "      <td>0</td>\n",
       "      <td>0</td>\n",
       "      <td>0</td>\n",
       "      <td>0</td>\n",
       "      <td>0</td>\n",
       "      <td>0</td>\n",
       "      <td>1</td>\n",
       "      <td>1</td>\n",
       "      <td>1</td>\n",
       "      <td>1</td>\n",
       "      <td>1</td>\n",
       "      <td>1</td>\n",
       "    </tr>\n",
       "    <tr>\n",
       "      <th>1295</th>\n",
       "      <td>2</td>\n",
       "      <td>0</td>\n",
       "      <td>0</td>\n",
       "      <td>0</td>\n",
       "      <td>0</td>\n",
       "      <td>0</td>\n",
       "      <td>0</td>\n",
       "      <td>1</td>\n",
       "      <td>1</td>\n",
       "      <td>2</td>\n",
       "      <td>1</td>\n",
       "      <td>1</td>\n",
       "      <td>1</td>\n",
       "    </tr>\n",
       "    <tr>\n",
       "      <th>61</th>\n",
       "      <td>0</td>\n",
       "      <td>0</td>\n",
       "      <td>0</td>\n",
       "      <td>0</td>\n",
       "      <td>0</td>\n",
       "      <td>0</td>\n",
       "      <td>0</td>\n",
       "      <td>1</td>\n",
       "      <td>1</td>\n",
       "      <td>1</td>\n",
       "      <td>1</td>\n",
       "      <td>1</td>\n",
       "      <td>1</td>\n",
       "    </tr>\n",
       "    <tr>\n",
       "      <th>1763</th>\n",
       "      <td>0</td>\n",
       "      <td>0</td>\n",
       "      <td>0</td>\n",
       "      <td>0</td>\n",
       "      <td>0</td>\n",
       "      <td>0</td>\n",
       "      <td>0</td>\n",
       "      <td>1</td>\n",
       "      <td>1</td>\n",
       "      <td>1</td>\n",
       "      <td>1</td>\n",
       "      <td>1</td>\n",
       "      <td>1</td>\n",
       "    </tr>\n",
       "    <tr>\n",
       "      <th>128</th>\n",
       "      <td>0</td>\n",
       "      <td>0</td>\n",
       "      <td>0</td>\n",
       "      <td>0</td>\n",
       "      <td>0</td>\n",
       "      <td>0</td>\n",
       "      <td>0</td>\n",
       "      <td>1</td>\n",
       "      <td>1</td>\n",
       "      <td>1</td>\n",
       "      <td>1</td>\n",
       "      <td>1</td>\n",
       "      <td>1</td>\n",
       "    </tr>\n",
       "  </tbody>\n",
       "</table>\n",
       "<p>1309 rows × 13 columns</p>\n",
       "</div>"
      ],
      "text/plain": [
       "      long_url  having_@_symbol  redirection_//_symbol  \\\n",
       "1120         0                0                      0   \n",
       "841          0                0                      0   \n",
       "1682         0                0                      0   \n",
       "483          0                0                      0   \n",
       "1305         0                0                      0   \n",
       "...        ...              ...                    ...   \n",
       "381          0                0                      0   \n",
       "1295         2                0                      0   \n",
       "61           0                0                      0   \n",
       "1763         0                0                      0   \n",
       "128          0                0                      0   \n",
       "\n",
       "      prefix_suffix_seperation  sub_domains  having_ip_address  \\\n",
       "1120                         0            0                  0   \n",
       "841                          0            0                  0   \n",
       "1682                         0            0                  0   \n",
       "483                          1            0                  0   \n",
       "1305                         1            0                  0   \n",
       "...                        ...          ...                ...   \n",
       "381                          0            0                  0   \n",
       "1295                         0            0                  0   \n",
       "61                           0            0                  0   \n",
       "1763                         0            0                  0   \n",
       "128                          0            0                  0   \n",
       "\n",
       "      shortening_service  https_token  abnormal_url  web_traffic  \\\n",
       "1120                   0            1             1            1   \n",
       "841                    0            1             1            1   \n",
       "1682                   0            1             1            1   \n",
       "483                    0            1             1            1   \n",
       "1305                   0            1             1            1   \n",
       "...                  ...          ...           ...          ...   \n",
       "381                    0            1             1            1   \n",
       "1295                   0            1             1            2   \n",
       "61                     0            1             1            1   \n",
       "1763                   0            1             1            1   \n",
       "128                    0            1             1            1   \n",
       "\n",
       "      domain_registration_length  age_of_domain  dns_record  \n",
       "1120                           1              1           1  \n",
       "841                            1              1           1  \n",
       "1682                           1              1           1  \n",
       "483                            1              1           1  \n",
       "1305                           1              1           1  \n",
       "...                          ...            ...         ...  \n",
       "381                            1              1           1  \n",
       "1295                           1              1           1  \n",
       "61                             1              1           1  \n",
       "1763                           1              1           1  \n",
       "128                            1              1           1  \n",
       "\n",
       "[1309 rows x 13 columns]"
      ]
     },
     "execution_count": 20,
     "metadata": {},
     "output_type": "execute_result"
    }
   ],
   "source": [
    "h=pd.DataFrame(data_train)\n",
    "h"
   ]
  },
  {
   "cell_type": "code",
   "execution_count": 21,
   "metadata": {},
   "outputs": [
    {
     "data": {
      "text/plain": [
       "1120    1\n",
       "841     0\n",
       "1682    0\n",
       "483     1\n",
       "1305    1\n",
       "       ..\n",
       "381     0\n",
       "1295    0\n",
       "61      1\n",
       "1763    0\n",
       "128     1\n",
       "Name: statistical_report, Length: 1309, dtype: int64"
      ]
     },
     "execution_count": 21,
     "metadata": {},
     "output_type": "execute_result"
    }
   ],
   "source": [
    "labels_train"
   ]
  },
  {
   "cell_type": "code",
   "execution_count": 22,
   "metadata": {
    "executionInfo": {
     "elapsed": 9,
     "status": "ok",
     "timestamp": 1626508690184,
     "user": {
      "displayName": "pantech elearning",
      "photoUrl": "",
      "userId": "02085171050783995221"
     },
     "user_tz": -330
    },
    "id": "2g5bG8uRx9ix"
   },
   "outputs": [],
   "source": [
    "rf_ypred = model1.predict(data_test)"
   ]
  },
  {
   "cell_type": "code",
   "execution_count": 23,
   "metadata": {
    "colab": {
     "base_uri": "https://localhost:8080/"
    },
    "executionInfo": {
     "elapsed": 20,
     "status": "ok",
     "timestamp": 1626508690835,
     "user": {
      "displayName": "pantech elearning",
      "photoUrl": "",
      "userId": "02085171050783995221"
     },
     "user_tz": -330
    },
    "id": "TLIj5Mcdx9ix",
    "outputId": "40b3a790-a7af-4a67-9f4a-ed005c68f749"
   },
   "outputs": [
    {
     "name": "stdout",
     "output_type": "stream",
     "text": [
      "[[385  17]\n",
      " [ 96  64]]\n"
     ]
    },
    {
     "data": {
      "text/plain": [
       "0.798932384341637"
      ]
     },
     "execution_count": 23,
     "metadata": {},
     "output_type": "execute_result"
    }
   ],
   "source": [
    "from sklearn.metrics import confusion_matrix,accuracy_score\n",
    "cpnfusionMatrix = confusion_matrix(labels_test,rf_ypred)\n",
    "print(cpnfusionMatrix)\n",
    "rfacc=accuracy_score(labels_test,rf_ypred)\n",
    "rfacc"
   ]
  },
  {
   "cell_type": "code",
   "execution_count": 24,
   "metadata": {
    "colab": {
     "base_uri": "https://localhost:8080/",
     "height": 264
    },
    "executionInfo": {
     "elapsed": 17,
     "status": "ok",
     "timestamp": 1626508690838,
     "user": {
      "displayName": "pantech elearning",
      "photoUrl": "",
      "userId": "02085171050783995221"
     },
     "user_tz": -330
    },
    "id": "8lKp6XTmx9ix",
    "outputId": "58db16c6-bc25-45b2-c78a-9230a0e38503"
   },
   "outputs": [
    {
     "data": {
      "image/png": "[encoded data removed]",
      "text/plain": [
       "<Figure size 640x480 with 2 Axes>"
      ]
     },
     "metadata": {},
     "output_type": "display_data"
    }
   ],
   "source": [
    "import seaborn as sns\n",
    "import matplotlib.pyplot as plt\n",
    "\n",
    "labels = [0,1]\n",
    "sns.heatmap(cpnfusionMatrix, annot=True, cmap=\"YlGnBu\", fmt=\".3f\", xticklabels=labels, yticklabels=labels)\n",
    "plt.show()"
   ]
  },
  {
   "cell_type": "markdown",
   "metadata": {
    "id": "TE0Twf5Px9iy"
   },
   "source": [
    "# SVM"
   ]
  },
  {
   "cell_type": "code",
   "execution_count": 25,
   "metadata": {
    "colab": {
     "base_uri": "https://localhost:8080/"
    },
    "executionInfo": {
     "elapsed": 880,
     "status": "ok",
     "timestamp": 1626508691705,
     "user": {
      "displayName": "pantech elearning",
      "photoUrl": "",
      "userId": "02085171050783995221"
     },
     "user_tz": -330
    },
    "id": "_YzH-bjqx9iy",
    "outputId": "9349b583-1105-4e68-9e56-d55ea7a55c2f"
   },
   "outputs": [
    {
     "data": {
      "text/plain": [
       "array([1, 0, 0, 0, 0, 0, 0, 1, 0, 0, 0, 0, 0, 0, 0, 0, 0, 0, 0, 0, 1, 0,\n",
       "       0, 1, 0, 0, 0, 1, 0, 0, 0, 0, 0, 0, 0, 1, 0, 0, 0, 0, 0, 0, 0, 1,\n",
       "       0, 0, 0, 0, 1, 0, 1, 0, 1, 0, 0, 0, 0, 0, 0, 0, 0, 0, 0, 0, 0, 0,\n",
       "       0, 1, 0, 0, 0, 0, 0, 0, 0, 1, 0, 0, 0, 0, 1, 0, 0, 0, 0, 0, 0, 0,\n",
       "       0, 0, 0, 0, 0, 1, 0, 0, 1, 1, 0, 0, 0, 0, 0, 0, 0, 0, 0, 0, 0, 1,\n",
       "       0, 0, 0, 0, 0, 0, 0, 0, 0, 0, 0, 0, 0, 1, 0, 0, 0, 0, 0, 0, 1, 0,\n",
       "       0, 0, 0, 0, 0, 0, 0, 1, 0, 0, 0, 0, 0, 0, 0, 0, 0, 0, 0, 1, 1, 1,\n",
       "       0, 0, 0, 0, 0, 1, 1, 1, 1, 0, 0, 0, 0, 0, 0, 1, 0, 0, 0, 0, 1, 0,\n",
       "       0, 0, 0, 0, 0, 1, 1, 0, 0, 0, 0, 0, 1, 0, 0, 0, 1, 0, 0, 1, 0, 1,\n",
       "       0, 0, 0, 0, 0, 0, 0, 0, 1, 0, 1, 0, 0, 0, 0, 0, 0, 0, 0, 1, 0, 0,\n",
       "       1, 0, 0, 0, 0, 0, 0, 0, 0, 0, 0, 0, 0, 0, 0, 1, 1, 0, 0, 0, 0, 0,\n",
       "       0, 0, 0, 0, 0, 0, 0, 0, 1, 0, 0, 0, 0, 0, 1, 0, 0, 1, 0, 1, 1, 0,\n",
       "       0, 0, 1, 1, 1, 0, 0, 0, 1, 0, 0, 0, 0, 0, 0, 0, 0, 0, 0, 0, 0, 0,\n",
       "       1, 0, 1, 0, 1, 0, 0, 0, 0, 0, 0, 0, 0, 0, 1, 1, 0, 0, 0, 0, 0, 0,\n",
       "       1, 1, 0, 1, 0, 0, 0, 1, 1, 0, 0, 0, 0, 0, 0, 0, 0, 0, 0, 0, 0, 0,\n",
       "       0, 0, 1, 0, 0, 0, 0, 0, 0, 1, 0, 1, 0, 0, 0, 0, 0, 0, 0, 0, 0, 1,\n",
       "       0, 1, 0, 0, 1, 0, 0, 0, 0, 0, 0, 0, 0, 0, 0, 0, 0, 0, 0, 0, 0, 1,\n",
       "       0, 0, 0, 0, 0, 0, 0, 1, 0, 0, 0, 0, 0, 0, 0, 0, 0, 0, 0, 0, 0, 0,\n",
       "       1, 0, 0, 0, 0, 0, 0, 0, 1, 0, 1, 0, 0, 0, 0, 0, 0, 0, 0, 0, 1, 0,\n",
       "       1, 0, 1, 0, 0, 1, 1, 1, 0, 0, 0, 0, 0, 0, 0, 0, 1, 1, 0, 1, 0, 0,\n",
       "       0, 0, 1, 0, 0, 0, 1, 0, 0, 0, 0, 0, 0, 1, 0, 0, 0, 0, 0, 0, 0, 1,\n",
       "       0, 0, 0, 0, 0, 0, 0, 0, 0, 0, 1, 0, 1, 0, 0, 0, 0, 0, 1, 0, 0, 0,\n",
       "       0, 1, 0, 0, 1, 1, 0, 0, 0, 1, 0, 0, 0, 0, 0, 0, 0, 1, 0, 0, 0, 0,\n",
       "       0, 0, 0, 0, 0, 0, 0, 1, 1, 0, 1, 0, 1, 0, 0, 0, 0, 0, 1, 0, 0, 0,\n",
       "       0, 0, 0, 0, 0, 0, 0, 0, 0, 0, 0, 0, 1, 0, 0, 0, 0, 0, 0, 0, 0, 0,\n",
       "       0, 1, 0, 0, 0, 0, 0, 0, 1, 0, 0, 0], dtype=int64)"
      ]
     },
     "execution_count": 25,
     "metadata": {},
     "output_type": "execute_result"
    }
   ],
   "source": [
    "from sklearn import svm\n",
    "\n",
    "model2= svm.LinearSVC(random_state=42)\n",
    "model2.fit(data_train,labels_train)\n",
    "svm_y_pred = model2.predict(data_test)\n",
    "svm_y_pred\n"
   ]
  },
  {
   "cell_type": "code",
   "execution_count": 26,
   "metadata": {
    "colab": {
     "base_uri": "https://localhost:8080/"
    },
    "executionInfo": {
     "elapsed": 34,
     "status": "ok",
     "timestamp": 1626508691707,
     "user": {
      "displayName": "pantech elearning",
      "photoUrl": "",
      "userId": "02085171050783995221"
     },
     "user_tz": -330
    },
    "id": "p9i32K49x9iz",
    "outputId": "c42ea08d-69e0-47e0-e637-7973baa85887"
   },
   "outputs": [
    {
     "name": "stdout",
     "output_type": "stream",
     "text": [
      "[[367  35]\n",
      " [ 95  65]]\n"
     ]
    },
    {
     "data": {
      "text/plain": [
       "0.7686832740213523"
      ]
     },
     "execution_count": 26,
     "metadata": {},
     "output_type": "execute_result"
    }
   ],
   "source": [
    "cpnfusionMatrix = confusion_matrix(labels_test,svm_y_pred)\n",
    "print(cpnfusionMatrix)\n",
    "svmacc=accuracy_score(labels_test,svm_y_pred)\n",
    "svmacc"
   ]
  },
  {
   "cell_type": "code",
   "execution_count": 27,
   "metadata": {
    "colab": {
     "base_uri": "https://localhost:8080/",
     "height": 264
    },
    "executionInfo": {
     "elapsed": 27,
     "status": "ok",
     "timestamp": 1626508691709,
     "user": {
      "displayName": "pantech elearning",
      "photoUrl": "",
      "userId": "02085171050783995221"
     },
     "user_tz": -330
    },
    "id": "bRruAvWTx9i0",
    "outputId": "b371e077-a939-4311-cdcc-4e9e44e55c38"
   },
   "outputs": [
    {
     "data": {
      "image/png": "[encoded data removed]",
      "text/plain": [
       "<Figure size 640x480 with 2 Axes>"
      ]
     },
     "metadata": {},
     "output_type": "display_data"
    }
   ],
   "source": [
    "labels = [0,1]\n",
    "sns.heatmap(cpnfusionMatrix, annot=True, cmap=\"YlGnBu\", fmt=\".3f\", xticklabels=labels, yticklabels=labels)\n",
    "plt.show()"
   ]
  },
  {
   "cell_type": "code",
   "execution_count": 28,
   "metadata": {
    "colab": {
     "base_uri": "https://localhost:8080/",
     "height": 452
    },
    "executionInfo": {
     "elapsed": 421,
     "status": "ok",
     "timestamp": 1626508722925,
     "user": {
      "displayName": "pantech elearning",
      "photoUrl": "",
      "userId": "02085171050783995221"
     },
     "user_tz": -330
    },
    "id": "H8J3P-4sx9i0",
    "outputId": "3b467c0f-de1d-44f5-c26f-c13c6cdef960"
   },
   "outputs": [
    {
     "data": {
      "image/png": "[encoded data removed]",
      "text/plain": [
       "<Figure size 640x480 with 1 Axes>"
      ]
     },
     "metadata": {},
     "output_type": "display_data"
    }
   ],
   "source": [
    "import matplotlib.pyplot as plt; plt.rcdefaults()\n",
    "import numpy as np\n",
    "\n",
    "objects = ('Random Forest','Support Vector')\n",
    "y_pos = np.arange(len(objects))\n",
    "performance = [rfacc,svmacc]\n",
    "\n",
    "plt.bar(y_pos, performance, align='center', alpha=0.5)\n",
    "plt.xticks(y_pos, objects)\n",
    "plt.ylabel('Accuracy')\n",
    "plt.title('RF vs SVM')\n",
    "\n",
    "plt.show()"
   ]
  },
  {
   "cell_type": "code",
   "execution_count": 29,
   "metadata": {
    "id": "2Fh8LQ1zeX8J"
   },
   "outputs": [],
   "source": [
    "import pickle\n",
    "pickle.dump(model1, open('model.pkl','wb'))"
   ]
  },
  {
   "cell_type": "code",
   "execution_count": 30,
   "metadata": {},
   "outputs": [
    {
     "ename": "SyntaxError",
     "evalue": "invalid syntax (1335019899.py, line 1)",
     "output_type": "error",
     "traceback": [
      "\u001b[1;36m  File \u001b[1;32m\"C:\\Users\\DELL\\AppData\\Local\\Temp\\ipykernel_13616\\1335019899.py\"\u001b[1;36m, line \u001b[1;32m1\u001b[0m\n\u001b[1;33m    0\t0\t0\t0\t2\t1\t0\t1\t1\t1\t1\t1\t1\u001b[0m\n\u001b[1;37m     \t^\u001b[0m\n\u001b[1;31mSyntaxError\u001b[0m\u001b[1;31m:\u001b[0m invalid syntax\n"
     ]
    }
   ],
   "source": [
    "0\t0\t0\t0\t2\t1\t0\t1\t1\t1\t1\t1\t1"
   ]
  },
  {
   "cell_type": "code",
   "execution_count": 31,
   "metadata": {},
   "outputs": [
    {
     "name": "stdout",
     "output_type": "stream",
     "text": [
      "[1]\n",
      "Phishing URL detected\n"
     ]
    }
   ],
   "source": [
    "#0\t0\t0\t1\t0\t0\t0\t1\t1\t1\t1\t1\t1\n",
    "test_vector = model1.predict(np.array([[0, 0 ,0 ,1 ,0 ,0 ,0 ,1 ,1 ,1 ,1 ,1 ,1]]))\n",
    "print(test_vector)\n",
    "if test_vector[0]==1:\n",
    "    print(\"Phishing URL detected\")\n",
    "else:\n",
    "    print(\"Normal URL detected\")"
   ]
  },
  {
   "cell_type": "code",
   "execution_count": null,
   "metadata": {},
   "outputs": [],
   "source": []
  }
 ],
 "metadata": {
  "colab": {
   "collapsed_sections": [],
   "name": "RF_SVM_Classifier.ipynb",
   "provenance": []
  },
  "kernelspec": {
   "display_name": "Python 3 (ipykernel)",
   "language": "python",
   "name": "python3"
  },
  "language_info": {
   "codemirror_mode": {
    "name": "ipython",
    "version": 3
   },
   "file_extension": ".py",
   "mimetype": "text/x-python",
   "name": "python",
   "nbconvert_exporter": "python",
   "pygments_lexer": "ipython3",
   "version": "3.9.13"
  }
 },
 "nbformat": 4,
 "nbformat_minor": 1
}
